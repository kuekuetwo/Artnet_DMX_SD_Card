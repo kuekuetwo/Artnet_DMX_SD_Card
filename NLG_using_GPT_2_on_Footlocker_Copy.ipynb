{
  "nbformat": 4,
  "nbformat_minor": 0,
  "metadata": {
    "colab": {
      "name": "NLG using GPT-2 on Footlocker Copy.ipynb",
      "provenance": [],
      "collapsed_sections": [],
      "toc_visible": true,
      "include_colab_link": true
    },
    "kernelspec": {
      "name": "python3",
      "display_name": "Python 3"
    },
    "accelerator": "GPU"
  },
  "cells": [
    {
      "cell_type": "markdown",
      "metadata": {
        "id": "view-in-github",
        "colab_type": "text"
      },
      "source": [
        "<a href=\"https://colab.research.google.com/github/kuekuetwo/Artnet_DMX_SD_Card/blob/master/NLG_using_GPT_2_on_Footlocker_Copy.ipynb\" target=\"_parent\"><img src=\"https://colab.research.google.com/assets/colab-badge.svg\" alt=\"Open In Colab\"/></a>"
      ]
    },
    {
      "cell_type": "code",
      "metadata": {
        "id": "4OdYCPS_47R7",
        "colab": {
          "base_uri": "https://localhost:8080/",
          "height": 187
        },
        "outputId": "2c93c5bb-5645-44a8-ab4b-a78639412d9f"
      },
      "source": [
        "%tensorflow_version 1.x\n",
        "!pip install -q gpt-2-simple\n",
        "import gpt_2_simple as gpt2\n",
        "from datetime import datetime\n",
        "from google.colab import files"
      ],
      "execution_count": null,
      "outputs": [
        {
          "output_type": "stream",
          "text": [
            "TensorFlow 1.x selected.\n",
            "  Building wheel for gpt-2-simple (setup.py) ... \u001b[?25l\u001b[?25hdone\n",
            "WARNING:tensorflow:\n",
            "The TensorFlow contrib module will not be included in TensorFlow 2.0.\n",
            "For more information, please see:\n",
            "  * https://github.com/tensorflow/community/blob/master/rfcs/20180907-contrib-sunset.md\n",
            "  * https://github.com/tensorflow/addons\n",
            "  * https://github.com/tensorflow/io (for I/O related ops)\n",
            "If you depend on functionality not listed there, please file an issue.\n",
            "\n"
          ],
          "name": "stdout"
        }
      ]
    },
    {
      "cell_type": "markdown",
      "metadata": {
        "id": "usJ68f8lIdru"
      },
      "source": [
        "## Download the medium GPT-2 model"
      ]
    },
    {
      "cell_type": "code",
      "metadata": {
        "id": "_oIGOgGp6oam",
        "colab": {
          "base_uri": "https://localhost:8080/",
          "height": 136
        },
        "outputId": "8213fd63-74ed-4c76-ffa2-a046a89b42d0"
      },
      "source": [
        "gpt2.download_gpt2(model_name=\"355M\")"
      ],
      "execution_count": null,
      "outputs": [
        {
          "output_type": "stream",
          "text": [
            "Fetching checkpoint: 1.05Mit [00:00, 294Mit/s]                                                      \n",
            "Fetching encoder.json: 1.05Mit [00:00, 82.0Mit/s]                                                   \n",
            "Fetching hparams.json: 1.05Mit [00:00, 279Mit/s]                                                    \n",
            "Fetching model.ckpt.data-00000-of-00001: 1.42Git [00:08, 159Mit/s]                                  \n",
            "Fetching model.ckpt.index: 1.05Mit [00:00, 147Mit/s]                                                \n",
            "Fetching model.ckpt.meta: 1.05Mit [00:00, 70.7Mit/s]                                                \n",
            "Fetching vocab.bpe: 1.05Mit [00:00, 114Mit/s]                                                       \n"
          ],
          "name": "stderr"
        }
      ]
    },
    {
      "cell_type": "code",
      "metadata": {
        "id": "BX4iBOBuQwtp",
        "colab": {
          "base_uri": "https://localhost:8080/",
          "height": 122
        },
        "outputId": "1411bb08-2af5-4160-ba6e-28bc222728a2"
      },
      "source": [
        "gpt2.mount_gdrive()"
      ],
      "execution_count": null,
      "outputs": [
        {
          "output_type": "stream",
          "text": [
            "Go to this URL in a browser: https://accounts.google.com/o/oauth2/auth?client_id=947318989803-6bn6qk8qdgf4n4g3pfee6491hc0brc4i.apps.googleusercontent.com&redirect_uri=urn%3aietf%3awg%3aoauth%3a2.0%3aoob&response_type=code&scope=email%20https%3a%2f%2fwww.googleapis.com%2fauth%2fdocs.test%20https%3a%2f%2fwww.googleapis.com%2fauth%2fdrive%20https%3a%2f%2fwww.googleapis.com%2fauth%2fdrive.photos.readonly%20https%3a%2f%2fwww.googleapis.com%2fauth%2fpeopleapi.readonly\n",
            "\n",
            "Enter your authorization code:\n",
            "··········\n",
            "Mounted at /content/drive\n"
          ],
          "name": "stdout"
        }
      ]
    },
    {
      "cell_type": "markdown",
      "metadata": {
        "id": "4arKzOuGIl9h"
      },
      "source": [
        "## Finetune GPT-2 model using Footlocker's Category page copy\n",
        "\n",
        "---\n",
        "\n"
      ]
    },
    {
      "cell_type": "code",
      "metadata": {
        "id": "0Rpxmili6odU"
      },
      "source": [
        "file_name = \"footlocker-training.txt\""
      ],
      "execution_count": null,
      "outputs": []
    },
    {
      "cell_type": "code",
      "metadata": {
        "id": "YefRlfn26ogE",
        "colab": {
          "base_uri": "https://localhost:8080/",
          "height": 649
        },
        "outputId": "8a730ad5-cf7d-4129-9066-b1a0f37f6450"
      },
      "source": [
        "print(datetime.now().strftime(\"%H:%M:%S\"))\n",
        "\n",
        "sess = gpt2.start_tf_sess()\n",
        "\n",
        "gpt2.finetune(sess,\n",
        "              dataset=file_name,\n",
        "              model_name='355M',\n",
        "              steps=1000,\n",
        "              restore_from='fresh',\n",
        "              run_name='run355',\n",
        "              print_every=100,\n",
        "              sample_every=500,\n",
        "              save_every=200\n",
        "              )\n",
        "\n",
        "print(datetime.now().strftime(\"%H:%M:%S\"))"
      ],
      "execution_count": null,
      "outputs": [
        {
          "output_type": "stream",
          "text": [
            "15:08:16\n",
            "WARNING:tensorflow:From /usr/local/lib/python3.6/dist-packages/gpt_2_simple/src/sample.py:17: where (from tensorflow.python.ops.array_ops) is deprecated and will be removed in a future version.\n",
            "Instructions for updating:\n",
            "Use tf.where in 2.0, which has the same broadcast rule as np.where\n",
            "WARNING:tensorflow:From /usr/local/lib/python3.6/dist-packages/gpt_2_simple/src/memory_saving_gradients.py:62: get_backward_walk_ops (from tensorflow.contrib.graph_editor.select) is deprecated and will be removed after 2019-06-06.\n",
            "Instructions for updating:\n",
            "Please use tensorflow.python.ops.op_selector.get_backward_walk_ops.\n",
            "Loading checkpoint models/355M/model.ckpt\n",
            "INFO:tensorflow:Restoring parameters from models/355M/model.ckpt\n"
          ],
          "name": "stdout"
        },
        {
          "output_type": "stream",
          "text": [
            "\r  0%|          | 0/1 [00:00<?, ?it/s]"
          ],
          "name": "stderr"
        },
        {
          "output_type": "stream",
          "text": [
            "Loading dataset...\n"
          ],
          "name": "stdout"
        },
        {
          "output_type": "stream",
          "text": [
            "100%|██████████| 1/1 [00:00<00:00,  1.62it/s]\n"
          ],
          "name": "stderr"
        },
        {
          "output_type": "stream",
          "text": [
            "dataset has 65955 tokens\n",
            "Training...\n",
            "[100 | 325.22] loss=2.06 avg=2.06\n",
            "[200 | 640.02] loss=0.59 avg=1.32\n",
            "Saving checkpoint/run355/model-200\n",
            "[300 | 964.10] loss=0.78 avg=1.14\n",
            "[400 | 1279.82] loss=0.17 avg=0.89\n",
            "Saving checkpoint/run355/model-400\n",
            "WARNING:tensorflow:From /tensorflow-1.15.2/python3.6/tensorflow_core/python/training/saver.py:963: remove_checkpoint (from tensorflow.python.training.checkpoint_management) is deprecated and will be removed in a future version.\n",
            "Instructions for updating:\n",
            "Use standard file APIs to delete files with this prefix.\n",
            "[500 | 1602.22] loss=0.39 avg=0.79\n",
            "======== SAMPLE 1 ========\n",
            " pattern, including the track pants â€” sometimes called leggings â€” and the track jacket. The track jacket is also sometimes known as a tracksuit or jacket. And while many clothes made from natural materials, such as cotton and rayon, can still be found in the â€œairâ€ field, theyâ€™re often priced higher to retain their heritage as a fashion statement. Crafty Cuffs Found on the outer fringes of everyday activities, cuffs keep valuable items within easy reach. The â€œcuffâ€ is often an integral part of athletic attire â€” though itâ€™s also a fashionable accessory. Cuffs also secure the foot in the ideal pressure distribution pattern to promote a snug, consistent fit regardless of how much you move. Elements like triple-strap closures prevent gapping and wasted movement. The classic cotton waistband secures the fit and feel of a snug glove. Top-Notch Quality Leather is the unsung hero of the cuffed shoe. Highly durable and resistant to abrasion, moisture, and natural disasters, cuffs keep you just as secure as they look. Top Notch Quality Replacements for Whatâ€™s Thereâ€™s little thatâ€™s as reliable as high-quality leather. The key to a smooth-moving piece of gear is a sock-like fit with no creases or indentations. The ankle-length neckline and flared sleeves deliver easy access to the cuff for a seamless look. The upper is constructed with combed rings of varying strengths to lock in body heat and keep you warm when you need it the most. A cotton-based upper offers all-day comfort and gentle wear from toe to heel. An airy silhouette with drafty, tapered cuffs and a pointed tongue enhances legibility. Fit for All For athletes in training, the Nike Elite Trainer 200 is a premium sneaker designed with performance in mind. Itâ€™s the heavyweight of the Nike lineup, built for serious athletes who demand the utmost in comfort and style. The silhouette is emblematic of classic, full-length, double-strap pull tabs, with a faux-leather upper. Vintage, full-length zippered organizer packs provide organization with a look that keeps you stylishly outfitted in todayâ€™s leading edge of sneaker technology. The Nike Air Trainer 200 is a true standout, offering minimalist, airy vibes that deliver serious warmth. A signature tongue extension protects your favorite string from harsh weather. Ankles tucked away make sure that you stay comfortable and comfortable, alongside the trademark Nike Swoosh. Get the Look The Nike Air Max is a revolutionary, high-performance sneaker thatâ€™s both functional and stylish. Itâ€™s the epitome of sleek, simple style thatâ€™s easy to wear with anything. Nikeâ€™s Got Something Going In The Bag The traditional back pack is a must in any modern womenâ€™s sports dress. But how do we pack so we can feel confident that weâ€™re putting the clothing where our feet are? Nikeâ€™s Got Somethingâ€™s going in the bag, guys. And donâ€™t forget to take a peek at those â€œskirtâ€ prints! Read More<|endoftext>|\n",
            "A Need For Better Tech Under Armourâ€™s presence in the sports world is undeniable. The company has been a pioneer in athletic wear and training for more than 50 years, having broken into the sportswear scene through founder John Paul Jones. Over that span of responsible ownership, Under Armour has built one of the most respected apparel brands in the industry, formally known asÂÂÂÂÂÂÂÂÂÂÂÂÂÂÂÂÂÂÂÂÂÂÂÂÂÂÂÂÂÂÂÂÂÂÂÂÂÂÂÂÂÂÂÂÂ€œUAâ€.Â Throughout that time, the company has introduced many innovations into the apparel industry, most notably, theÂÂ€™Steel Over Ââ€”a compression sleeve for reducing the external wear on athletic equipment, and, theÂ€™Nike Free, a running shoe without the typical midsole â€“ freeing up space for more energy return. During that time, UA has also introduced many brand new products, most recently, theÂ€™Black T-shirt and, of course, theÂ€™War Pigs. The company continues to offer top-quality athletic wear and training gear at a tremendous discount. Make Your Mark Keep your gear stylish and comfy with womenâ€™s UA jackets and womenâ€™s UA shirts. From the sporty ties and warm jackets of yesteryear to the sleek modern T-shirts and tees of the 21st century,\n",
            "\n",
            "[600 | 1956.34] loss=0.10 avg=0.67\n",
            "Saving checkpoint/run355/model-600\n",
            "[700 | 2279.29] loss=0.04 avg=0.58\n",
            "[800 | 2595.40] loss=0.04 avg=0.51\n",
            "Saving checkpoint/run355/model-800\n",
            "[900 | 2916.88] loss=0.04 avg=0.45\n",
            "[1000 | 3231.85] loss=0.14 avg=0.42\n",
            "Saving checkpoint/run355/model-1000\n",
            "16:03:17\n"
          ],
          "name": "stdout"
        }
      ]
    },
    {
      "cell_type": "markdown",
      "metadata": {
        "id": "KRE6bhafVdtE"
      },
      "source": [
        "## Save a Copy of the Fine-Tuned Model"
      ]
    },
    {
      "cell_type": "code",
      "metadata": {
        "id": "mJcNkth2RGDI"
      },
      "source": [
        "gpt2.copy_checkpoint_to_gdrive(run_name='run355')"
      ],
      "execution_count": null,
      "outputs": []
    },
    {
      "cell_type": "code",
      "metadata": {
        "id": "9A-B-ScjRiPT"
      },
      "source": [
        "cp -r models/355M checkpoint/run1"
      ],
      "execution_count": null,
      "outputs": []
    },
    {
      "cell_type": "markdown",
      "metadata": {
        "id": "abSFYlLrJb_J"
      },
      "source": [
        "## Generate text based on the trained model"
      ]
    },
    {
      "cell_type": "code",
      "metadata": {
        "id": "m24_SbI96oi3"
      },
      "source": [
        "prompt = 'Looking for the best Basketball Shoe? We’ve got the Kyrie 6 Trophies.'\n",
        "\n",
        "result_text_one = gpt2.generate(sess,\n",
        "              length=200,\n",
        "              temperature=0.85,\n",
        "              prefix=prompt,\n",
        "              nsamples=2,\n",
        "              batch_size=2,\n",
        "              truncate = '<|endoftext>|',\n",
        "              include_prefix=True,\n",
        "              return_as_list=True\n",
        "              )"
      ],
      "execution_count": null,
      "outputs": []
    },
    {
      "cell_type": "code",
      "metadata": {
        "id": "EhENX9PW3M0t",
        "colab": {
          "base_uri": "https://localhost:8080/",
          "height": 71
        },
        "outputId": "83a257c3-922f-4308-80fb-c03147939a85"
      },
      "source": [
        "result_text_one"
      ],
      "execution_count": null,
      "outputs": [
        {
          "output_type": "execute_result",
          "data": {
            "text/plain": [
              "['Looking for the best Basketball Shoe? We’ve got the Kyrie 6 Trophies. Celebrate his rise through the ranks with some comfortable basketball sneakers. Look for kicks like the Kyrie 7, with its signature three-stripe logo, and the Kyrie 10, with its looser silhouette that wraps up any moves the shoe makes. Winning Big The story of Kyrieâ€™s rise can be summed up in one word: basketball. Growing up in Ohio, watching his father, former NBA star Charles, lead his school to two championships was part of growing up, and part of being a pro athlete yourself. So, itâ€™s no surprise that Kyrieâ€™s line of basketball shoes is a celebration of the sport. While the sneakers feature performance-driven designs, the apparel offers easy, breezy ways to wear your pro ballers look. Start with some comfortable basketball shorts, then add to that comfortable T-shirt or that stylish menâ€™s hoodie. Finish your look with some menâ€™s basketball shoes from one',\n",
              " 'Looking for the best Basketball Shoe? We’ve got the Kyrie 6 Trophies. Celebrate his incredible career with a pair of shoes from his pre-lockout days. The kicks were chock full of nostalgia that stuck around through every step, bump, and jump. The shoes echo the feel of a younger, leaner version of the shoes he wore. The Nike Kyrie 6 was popular at the time for two main reasons â€” its eye-catching design caught our eye and its confirmed place in basketball lore. The 6â€\\x9d was preceded by a limited edition of 50, and it remains one of the most sought after sneakers. Its reputation increased dramatically when Kevin Durant signed with Nike in 2011. Prior to that, the shoe was known as KDâ€™s, and it was adorned with those famous eye-catching kicks. By 2015, the shoe had transitioned to Kyrieâ€™s, and its now known by many other names as well. The Kyrie 5 This one is legendary. It has its roots dating back to the']"
            ]
          },
          "metadata": {
            "tags": []
          },
          "execution_count": 10
        }
      ]
    },
    {
      "cell_type": "code",
      "metadata": {
        "id": "I4tCNn246oln"
      },
      "source": [
        "prompt = 'The Kyrie 6 Trophies basketball shoe may not be made from sustainable materials, but they are on sale for $93.97!'\n",
        "\n",
        "result_text_two = gpt2.generate(sess,\n",
        "              length=100,\n",
        "              temperature=0.85,\n",
        "              prefix = prompt,\n",
        "              nsamples=2,\n",
        "              batch_size=2,\n",
        "              truncate = '<|endoftext>|',\n",
        "              include_prefix=True,\n",
        "              return_as_list=True\n",
        "              )"
      ],
      "execution_count": null,
      "outputs": []
    },
    {
      "cell_type": "code",
      "metadata": {
        "id": "TvGRsU_y7wYM",
        "colab": {
          "base_uri": "https://localhost:8080/",
          "height": 71
        },
        "outputId": "2ab9f53f-2d70-493f-f0be-c8c5fc6fc4d9"
      },
      "source": [
        "result_text_two"
      ],
      "execution_count": null,
      "outputs": [
        {
          "output_type": "execute_result",
          "data": {
            "text/plain": [
              "['The Kyrie 6 Trophies basketball shoe may not be made from sustainable materials, but they are on sale for $93.97! Thatâ€™s 30% off the listed price! Check out all the latest Nike basketball sneakers at Foot Locker today.',\n",
              " 'The Kyrie 6 Trophies basketball shoe may not be made from sustainable materials, but they are on sale for $93.97! Thatâ€™s a steal of a price. Show some love in a pair of colorful screen-wrapped sneakers by the pool or at the mall. Throw on a cozy sweatshirt on a casual day at home. Youâ€™ll look and feel great from top to toe. Read More']"
            ]
          },
          "metadata": {
            "tags": []
          },
          "execution_count": 12
        }
      ]
    }
  ]
}